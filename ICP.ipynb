{
 "cells": [
  {
   "cell_type": "markdown",
   "metadata": {},
   "source": [
    "**Working ICP using open3d**"
   ]
  },
  {
   "cell_type": "code",
   "execution_count": 1,
   "metadata": {},
   "outputs": [
    {
     "name": "stdout",
     "output_type": "stream",
     "text": [
      "Getting frame...\n",
      "Getting frame...\n",
      "Getting frame...\n",
      "Getting frame...\n",
      "Getting frame...\n",
      "calculating...\n",
      "[[ 0.9997189   0.00529395 -0.02311054  0.01499223]\n",
      " [-0.00537316  0.9999799  -0.00336675  0.00487613]\n",
      " [ 0.02309225  0.00348998  0.99972725  0.00541489]\n",
      " [ 0.          0.          0.          1.        ]]\n",
      "calculating...\n",
      "[[ 0.99982471  0.00695404 -0.01738378  0.03038437]\n",
      " [-0.00701486  0.99996948 -0.00343999 -0.00179829]\n",
      " [ 0.01735933  0.00356133  0.99984297  0.03981407]\n",
      " [ 0.          0.          0.          1.        ]]\n",
      "calculating...\n",
      "[[ 0.99989045 -0.01302571 -0.00703013 -0.05501773]\n",
      " [ 0.01295503  0.99986599 -0.01000827  0.00856751]\n",
      " [ 0.00715955  0.0099161   0.9999252   0.1439048 ]\n",
      " [ 0.          0.          0.          1.        ]]\n",
      "calculating...\n",
      "[[ 0.99610548 -0.08528146  0.02238177 -0.13998356]\n",
      " [ 0.08570247  0.99614758 -0.01857664 -0.0724529 ]\n",
      " [-0.0207113   0.02042247  0.99957689  0.30217367]\n",
      " [ 0.          0.          0.          1.        ]]\n",
      "================= TRANSFORMATION =================\n",
      "\n",
      "\n",
      "[[ 0.99610548 -0.08528146  0.02238177 -0.13998356]\n",
      " [ 0.08570247  0.99614758 -0.01857664 -0.0724529 ]\n",
      " [-0.0207113   0.02042247  0.99957689  0.30217367]\n",
      " [ 0.          0.          0.          1.        ]]\n",
      "\n",
      "\n",
      "==================================================\n",
      "RegistrationResult with fitness=1.000000e+00, inlier_rmse=2.958208e-01, and correspondence_set size of 393517\n",
      "Access transformation to get result.\n"
     ]
    },
    {
     "data": {
      "text/plain": [
       "<icp.ICP at 0x168b7f0e908>"
      ]
     },
     "execution_count": 1,
     "metadata": {},
     "output_type": "execute_result"
    }
   ],
   "source": [
    "from icp import *\n",
    "bag_filepath = \"C:/Users/grzegorz.kunc/Desktop/RealsenseVideos/20201106_162933.bag\"\n",
    "pointclouds_dir_path = \"./point_clouds\"\n",
    "\n",
    "ICP(bag_filepath, pointclouds_dir_path, max_frames = 5)"
   ]
  },
  {
   "cell_type": "code",
   "execution_count": 2,
   "metadata": {},
   "outputs": [],
   "source": [
    "import open3d as o3d\n",
    "\n",
    "\n",
    "source = o3d.io.read_point_cloud(\"./point_clouds/1.ply\") # Read the point cloud\n",
    "source.paint_uniform_color([1, 0, 0]) # red\n",
    "\n",
    "target = o3d.io.read_point_cloud(\"./point_clouds/5.ply\") # Read the point cloud\n",
    "target.paint_uniform_color([0, 1, 0]) # green\n",
    "\n",
    "o3d.visualization.draw_geometries([source, target], width = 640, height = 480)\n",
    "\n",
    "# ================================"
   ]
  },
  {
   "cell_type": "code",
   "execution_count": null,
   "metadata": {},
   "outputs": [],
   "source": []
  },
  {
   "cell_type": "code",
   "execution_count": 27,
   "metadata": {},
   "outputs": [
    {
     "name": "stdout",
     "output_type": "stream",
     "text": [
      "[[ 9.96190895e-01  3.06131621e-16  8.71992030e-02  2.00007308e-01]\n",
      " [ 7.60370100e-03  9.96190895e-01 -8.68670521e-02  2.00004993e-01]\n",
      " [-8.68670521e-02  8.71992030e-02  9.92396299e-01  2.00011980e-01]\n",
      " [ 0.00000000e+00  0.00000000e+00  0.00000000e+00  1.00000000e+00]]\n",
      "Expected translation norm: 2.029796324840046\n",
      "Given translation norm: 2.029780705546479\n"
     ]
    }
   ],
   "source": [
    "source = o3d.io.read_point_cloud('cube.ply')\n",
    "target = o3d.io.read_point_cloud('cube3.ply')\n",
    "target.paint_uniform_color([1, 0, 0]) # red\n",
    "threshold = 10\n",
    "    \n",
    "criteria = o3d.registration.ICPConvergenceCriteria(max_iteration = 50)\n",
    "reg_p2p = o3d.registration.registration_icp(source, target, threshold, init = reg_p2p.transformation)\n",
    "print(reg_p2p.transformation)\n",
    "source_transformed = source.transform(reg_p2p.transformation)\n",
    "source_transformed.paint_uniform_color([0, 1, 0]) # red\n",
    "\n",
    "o3d.visualization.draw_geometries([target, source_transformed])\n",
    "print(f\"Expected translation norm: {np.linalg.norm(transformation, 'fro')}\")\n",
    "print(f\"Given translation norm: {np.linalg.norm(reg_p2p.transformation, 'fro')}\")\n"
   ]
  },
  {
   "cell_type": "code",
   "execution_count": 9,
   "metadata": {},
   "outputs": [],
   "source": []
  },
  {
   "cell_type": "code",
   "execution_count": null,
   "metadata": {},
   "outputs": [],
   "source": []
  },
  {
   "cell_type": "code",
   "execution_count": null,
   "metadata": {},
   "outputs": [],
   "source": []
  },
  {
   "cell_type": "markdown",
   "metadata": {},
   "source": [
    "**ICP for two images 2D**"
   ]
  },
  {
   "cell_type": "markdown",
   "metadata": {},
   "source": [
    "**ICP for Points using vtk**"
   ]
  }
 ],
 "metadata": {
  "kernelspec": {
   "display_name": "Python 3",
   "language": "python",
   "name": "python3"
  },
  "language_info": {
   "codemirror_mode": {
    "name": "ipython",
    "version": 3
   },
   "file_extension": ".py",
   "mimetype": "text/x-python",
   "name": "python",
   "nbconvert_exporter": "python",
   "pygments_lexer": "ipython3",
   "version": "3.6.12"
  }
 },
 "nbformat": 4,
 "nbformat_minor": 4
}
