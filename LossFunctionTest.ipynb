{
 "cells": [
  {
   "cell_type": "code",
   "execution_count": 2,
   "metadata": {},
   "outputs": [
    {
     "name": "stdout",
     "output_type": "stream",
     "text": [
      "(8, 3, 3)\n",
      "TRANSFORMATION TRUE\n",
      "tf.Tensor(\n",
      "[[[0.33224186 0.71104458 0.13725613 0.57393896]\n",
      "  [0.47031354 0.99627869 0.27171432 0.75876478]\n",
      "  [0.49653151 0.59667082 0.30911854 0.50747106]\n",
      "  [0.62828884 0.37001892 0.98947303 0.23267695]]\n",
      "\n",
      " [[0.87026842 0.2077004  0.65184454 0.33974066]\n",
      "  [0.53790791 0.84649951 0.33332147 0.52089434]\n",
      "  [0.05050741 0.86461667 0.75967639 0.27133487]\n",
      "  [0.52049304 0.83965248 0.25579436 0.75559307]]\n",
      "\n",
      " [[0.87221173 0.73456478 0.22819825 0.08616764]\n",
      "  [0.35554486 0.06588706 0.09102715 0.17185867]\n",
      "  [0.60649903 0.0192748  0.62323392 0.03785904]\n",
      "  [0.05873621 0.97718497 0.37685175 0.83570672]]\n",
      "\n",
      " [[0.79942137 0.2709293  0.17046821 0.92598936]\n",
      "  [0.5262143  0.06723016 0.86833734 0.42129666]\n",
      "  [0.66237851 0.08008684 0.44852594 0.48311569]\n",
      "  [0.23438963 0.78220478 0.65893409 0.41726523]]\n",
      "\n",
      " [[0.53387998 0.9928175  0.32350577 0.93226899]\n",
      "  [0.22459613 0.55202242 0.51088244 0.08529417]\n",
      "  [0.80641336 0.58085952 0.63195383 0.6484713 ]\n",
      "  [0.6573908  0.40797955 0.78764545 0.81699608]]\n",
      "\n",
      " [[0.43838974 0.20069651 0.08171059 0.23234197]\n",
      "  [0.08373452 0.00919075 0.11012044 0.39167095]\n",
      "  [0.80844516 0.84834708 0.97147079 0.83456724]\n",
      "  [0.78402384 0.6372119  0.59687181 0.25308699]]\n",
      "\n",
      " [[0.49651355 0.60513335 0.39042443 0.577216  ]\n",
      "  [0.26539997 0.06636076 0.8804287  0.50901363]\n",
      "  [0.49345644 0.11438311 0.61926247 0.21529019]\n",
      "  [0.40347186 0.91537536 0.13080653 0.89273458]]\n",
      "\n",
      " [[0.68918643 0.0086766  0.43247037 0.26743588]\n",
      "  [0.52492674 0.25305609 0.75261947 0.06967329]\n",
      "  [0.98902268 0.06022148 0.0545095  0.07878548]\n",
      "  [0.21402427 0.14404747 0.25263501 0.26504994]]], shape=(8, 4, 4), dtype=float64)\n",
      "=======================\n",
      "TRANSFORMATIO PRED\n",
      "tf.Tensor(\n",
      "[[[ 1.00000000e+00 -8.32667268e-17  1.11022302e-16]\n",
      "  [ 5.55111512e-17  1.00000000e+00 -7.21644966e-16]\n",
      "  [ 0.00000000e+00  2.77555756e-16  1.00000000e+00]]\n",
      "\n",
      " [[ 1.00000000e+00  0.00000000e+00 -1.66533454e-16]\n",
      "  [-8.32667268e-17  1.00000000e+00 -8.32667268e-17]\n",
      "  [-2.77555756e-16 -2.22044605e-16  1.00000000e+00]]\n",
      "\n",
      " [[ 1.00000000e+00 -8.32667268e-17  1.11022302e-16]\n",
      "  [-5.55111512e-17  1.00000000e+00 -5.55111512e-17]\n",
      "  [-1.11022302e-16  5.55111512e-17  1.00000000e+00]]\n",
      "\n",
      " [[ 1.00000000e+00  0.00000000e+00  1.38777878e-17]\n",
      "  [ 0.00000000e+00  1.00000000e+00  1.38777878e-17]\n",
      "  [ 5.55111512e-17 -2.77555756e-17  1.00000000e+00]]\n",
      "\n",
      " [[ 1.00000000e+00 -1.11022302e-16  1.11022302e-16]\n",
      "  [ 0.00000000e+00  1.00000000e+00  1.11022302e-16]\n",
      "  [ 0.00000000e+00 -5.55111512e-17  1.00000000e+00]]\n",
      "\n",
      " [[ 1.00000000e+00  2.22044605e-16  5.55111512e-17]\n",
      "  [ 2.22044605e-16  1.00000000e+00 -3.88578059e-16]\n",
      "  [ 0.00000000e+00  5.55111512e-16  1.00000000e+00]]\n",
      "\n",
      " [[ 1.00000000e+00  5.55111512e-17 -1.66533454e-16]\n",
      "  [ 0.00000000e+00  1.00000000e+00  2.22044605e-16]\n",
      "  [-5.55111512e-17  1.11022302e-16  1.00000000e+00]]\n",
      "\n",
      " [[ 1.00000000e+00  0.00000000e+00 -2.77555756e-17]\n",
      "  [ 0.00000000e+00  1.00000000e+00 -5.55111512e-17]\n",
      "  [-4.16333634e-17 -5.55111512e-17  1.00000000e+00]]], shape=(8, 3, 3), dtype=float64) tf.Tensor(\n",
      "[[[-2.22044605e-16 -1.11022302e-15  2.22044605e-16]]\n",
      "\n",
      " [[ 0.00000000e+00 -6.66133815e-16  0.00000000e+00]]\n",
      "\n",
      " [[-2.22044605e-16  2.22044605e-16  0.00000000e+00]]\n",
      "\n",
      " [[-2.22044605e-16 -2.22044605e-16 -2.22044605e-16]]\n",
      "\n",
      " [[ 1.55431223e-15  1.11022302e-15  2.22044605e-16]]\n",
      "\n",
      " [[-8.88178420e-16 -6.66133815e-16  6.66133815e-16]]\n",
      "\n",
      " [[-6.66133815e-16 -1.11022302e-15 -2.22044605e-16]]\n",
      "\n",
      " [[ 4.44089210e-16  2.22044605e-16  3.33066907e-16]]], shape=(8, 1, 3), dtype=float64)\n",
      "=======================\n"
     ]
    }
   ],
   "source": [
    "from loss_function import *\n",
    "import numpy as np\n",
    "import tensorflow as tf\n",
    "\n",
    "# random testing values\n",
    "# batch_size = 8\n",
    "\n",
    "transform_true = tf.constant(np.random.rand(8,4,4))\n",
    "ones = tf.constant(np.ones((8, 32, 1)))\n",
    "        \n",
    "y_source_net_selected = tf.constant(np.random.rand(8,32, 3))\n",
    "y_target_net_calculated = tf.slice(tf.linalg.matmul(tf.concat([y_source_net_selected, ones], -1), transform_true), [0, 0, 0], [8, 32, 3])\n",
    "\n",
    "lossFunction = LossFunction(y_source_net_selected, y_target_net_calculated, transform_true)\n",
    "R, T = lossFunction.calculate_transform_pred()\n",
    "\n",
    "print(\"TRANSFORMATION TRUE\")\n",
    "print(transform_true)\n",
    "print(\"=======================\")\n",
    "print(\"TRANSFORMATIO PRED\")\n",
    "print(R, T)\n",
    "print(\"=======================\")\n",
    "\n",
    "# print(\"SOURCE\")\n",
    "# print(y_source_net_selected)\n",
    "# print(\"=======================\")\n",
    "\n",
    "# print(\"MULTIPLICATION\")\n",
    "# print(mult)\n",
    "# print(\"=======================\")\n",
    "\n",
    "\n",
    "\n",
    "# construct class\n",
    "# print(transform_true)\n",
    "\n",
    "# loss1 = lossFunction.loss1()\n",
    "# loss2 = lossFunction.loss2()\n",
    "# print(loss1)\n",
    "# print(loss2)\n",
    "\n",
    "# loss = lossFunction.get_loss(0.3)\n",
    "# print(loss)"
   ]
  },
  {
   "cell_type": "code",
   "execution_count": 2,
   "metadata": {},
   "outputs": [
    {
     "ename": "SyntaxError",
     "evalue": "invalid syntax (loss.py, line 29)",
     "output_type": "error",
     "traceback": [
      "Traceback \u001b[1;36m(most recent call last)\u001b[0m:\n",
      "  File \u001b[0;32m\"C:\\Users\\grzegorz.kunc\\Anaconda3\\envs\\python 36\\lib\\site-packages\\IPython\\core\\interactiveshell.py\"\u001b[0m, line \u001b[0;32m3343\u001b[0m, in \u001b[0;35mrun_code\u001b[0m\n    exec(code_obj, self.user_global_ns, self.user_ns)\n",
      "\u001b[1;36m  File \u001b[1;32m\"<ipython-input-2-7c15a2351302>\"\u001b[1;36m, line \u001b[1;32m1\u001b[1;36m, in \u001b[1;35m<module>\u001b[1;36m\u001b[0m\n\u001b[1;33m    from loss import *\u001b[0m\n",
      "\u001b[1;36m  File \u001b[1;32m\"C:\\Users\\grzegorz.kunc\\Desktop\\StudioProjektoweMrowka2\\loss.py\"\u001b[1;36m, line \u001b[1;32m29\u001b[0m\n\u001b[1;33m    def loss(y_true, y_pred):\u001b[0m\n\u001b[1;37m      ^\u001b[0m\n\u001b[1;31mSyntaxError\u001b[0m\u001b[1;31m:\u001b[0m invalid syntax\n"
     ]
    }
   ],
   "source": [
    "from loss import *\n",
    "\n",
    "print(get_loss(alpha=0.5))"
   ]
  },
  {
   "cell_type": "code",
   "execution_count": 3,
   "metadata": {},
   "outputs": [
    {
     "data": {
      "text/plain": [
       "<tf.Tensor: shape=(4,), dtype=float64, numpy=array([2.61682076e-16, 2.61682076e-16, 2.61682076e-16, 2.61682076e-16])>"
      ]
     },
     "execution_count": 3,
     "metadata": {},
     "output_type": "execute_result"
    }
   ],
   "source": [
    "from loss_function import *\n",
    "import numpy as np\n",
    "import tensorflow as tf\n",
    "\n",
    "transform_true = tf.eye(4, num_columns = 4, batch_shape = [4], dtype = tf.float64)\n",
    "array = np.array([[1.0, 1.0, 1.0], [2.0, 2.0, 2.0], [3.0, 3.0, 3.0]])\n",
    "y_source_net_selected = tf.constant([array, array, array, array], tf.float64)\n",
    "y_target_net_calculated = tf.constant([array, array, array, array], tf.float64)\n",
    "# print(y_source_net_selected)\n",
    "# print(y_source_net_selected)                   \n",
    "lossFunction = LossFunction(y_source_net_selected, y_target_net_calculated, transform_true)\n",
    "lossFunction.get_loss(0.5)\n"
   ]
  },
  {
   "cell_type": "code",
   "execution_count": 6,
   "metadata": {},
   "outputs": [
    {
     "name": "stdout",
     "output_type": "stream",
     "text": [
      "[[ 0.9962  0.      0.0872  0.    ]\n",
      " [ 0.      1.      0.      0.    ]\n",
      " [-0.0872  0.      0.9962  0.    ]\n",
      " [ 0.      0.      0.      0.    ]]\n",
      "[[ 0.9962  0.     -0.0872  0.    ]\n",
      " [ 0.      1.      0.      0.    ]\n",
      " [ 0.0872  0.      0.9962  0.    ]\n",
      " [ 0.      0.      0.      0.    ]]\n"
     ]
    },
    {
     "data": {
      "text/plain": [
       "<tf.Tensor: shape=(5,), dtype=float64, numpy=array([0.46389885, 0.46389885, 0.46389885, 0.46389885, 0.46389885])>"
      ]
     },
     "execution_count": 6,
     "metadata": {},
     "output_type": "execute_result"
    }
   ],
   "source": [
    "from loss_function import *\n",
    "import numpy as np\n",
    "import tensorflow as tf\n",
    "\n",
    "transform = np.array([[0.9962, 0, 0.0872, 0], [0, 1, 0, 0], [-0.0872, 0, 0.9962, 0], [0,0,0,0]])\n",
    "print(transform)\n",
    "print( np.transpose(transform))\n",
    "# transform = np.array([[1.0, 2.0, 1.0, 1.0], [2.0, 1.0, 2.0, 2.0], [3.0, 3.0, 1.0, 3.0], [0.0, 0.0, 0.0, 1.0]])\n",
    "transform_true = tf.constant((transform), dtype = tf.float64)\n",
    "array = np.array([[1.0, 1.0, 1.0], [2.0, 2.0, 2.0], [3.0, 3.0, 3.0]])\n",
    "array2 = np.array([[1.083350441, 1, 0.9090389553], [2.166700882, 2, 1.818077911], [3.250051323, 3, 2.727116866]])\n",
    "y_source_net_selected = tf.constant([array, array, array, array, array], tf.float64)\n",
    "y_target_net_calculated = tf.constant([array2, array2, array2, array2, array2], tf.float64)\n",
    "# print(y_source_net_selected)\n",
    "# print(y_source_net_selected)                                \n",
    "lossFunction = LossFunction(y_source_net_selected, y_target_net_calculated, transform_true)\n",
    "# lossFunction.calculate_transform_pred()\n",
    "\n",
    "lossFunction.get_loss(0.5)"
   ]
  },
  {
   "cell_type": "code",
   "execution_count": 21,
   "metadata": {},
   "outputs": [
    {
     "name": "stdout",
     "output_type": "stream",
     "text": [
      "tf.Tensor(\n",
      "[[ 0.66790184 -0.39051369  0.63356625 -0.34025179]\n",
      " [-0.27361698  0.66282358  0.69699257  0.35895084]\n",
      " [ 0.69212779  0.6388771  -0.33584991  0.01066762]\n",
      " [ 0.          0.          0.          1.        ]], shape=(4, 4), dtype=float64)\n"
     ]
    }
   ],
   "source": [
    "R = tf.constant(np.array([[ 0.66790184, -0.39051369,  0.63356625],\n",
    "         [-0.27361698,  0.66282358,  0.69699257],\n",
    "         [ 0.69212779,  0.6388771 , -0.33584991]]))\n",
    "\n",
    "T = tf.transpose(tf.constant(np.array([[-0.34025179,  0.35895084,  0.01066762]])))\n",
    "lastRow = tf.reshape(tf.constant(np.array([0,0,0,1]), tf.float64), (1,4))\n",
    "result = tf.concat([tf.concat([R, T], axis = -1), lastRow], axis = 0)\n",
    "print(result)"
   ]
  },
  {
   "cell_type": "code",
   "execution_count": 8,
   "metadata": {},
   "outputs": [
    {
     "name": "stdout",
     "output_type": "stream",
     "text": [
      "[1.08641265 0.91118699 0.99470891]\n"
     ]
    }
   ],
   "source": []
  },
  {
   "cell_type": "code",
   "execution_count": null,
   "metadata": {},
   "outputs": [],
   "source": []
  }
 ],
 "metadata": {
  "kernelspec": {
   "display_name": "Python 3",
   "language": "python",
   "name": "python3"
  },
  "language_info": {
   "codemirror_mode": {
    "name": "ipython",
    "version": 3
   },
   "file_extension": ".py",
   "mimetype": "text/x-python",
   "name": "python",
   "nbconvert_exporter": "python",
   "pygments_lexer": "ipython3",
   "version": "3.6.10"
  }
 },
 "nbformat": 4,
 "nbformat_minor": 4
}
