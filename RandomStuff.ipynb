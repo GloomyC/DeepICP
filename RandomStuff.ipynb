{
 "cells": [
  {
   "cell_type": "markdown",
   "metadata": {},
   "source": []
  },
  {
   "cell_type": "markdown",
   "metadata": {},
   "source": [
    "<h1>Run cell below too</h1>\n",
    "if window doesn't pop up by itself, check for a new window on app bar"
   ]
  },
  {
   "cell_type": "code",
   "execution_count": 3,
   "metadata": {},
   "outputs": [
    {
     "name": "stdout",
     "output_type": "stream",
     "text": [
      "<class 'config.Config'>\n",
      "{'model_checkpoint_path': 'E:/absolute/path/where/models/will/be/saved', 'KITTI_dataset_path': 'E:/abosolute/path/to/root/of/dataset', 'saved_video_path': 'E:/absolute/path/to/directory/with/realsense/files', 'default_net_config': 'default_net', 'default_train_config': 'default_train', 'default_test_config': 'default_test'}\n"
     ]
    }
   ],
   "source": [
    "from config import *\n",
    "\n",
    "conf = Config()\n",
    "\n",
    "print(type(conf))\n",
    "print(conf.project_config)\n"
   ]
  },
  {
   "cell_type": "code",
   "execution_count": 4,
   "metadata": {},
   "outputs": [
    {
     "name": "stdout",
     "output_type": "stream",
     "text": [
      "2.2.0\n",
      "Model: \"model\"\n",
      "_________________________________________________________________\n",
      "Layer (type)                 Output Shape              Param #   \n",
      "=================================================================\n",
      "input_1 (InputLayer)         [(None, 200, 21)]         0         \n",
      "_________________________________________________________________\n",
      "dense (Dense)                (None, 200, 16)           352       \n",
      "_________________________________________________________________\n",
      "dense_1 (Dense)              (None, 200, 8)            136       \n",
      "_________________________________________________________________\n",
      "dense_2 (Dense)              (None, 200, 1)            9         \n",
      "_________________________________________________________________\n",
      "lambda (Lambda)              TopKV2(values=(None, 200, 0         \n",
      "=================================================================\n",
      "Total params: 497\n",
      "Trainable params: 497\n",
      "Non-trainable params: 0\n",
      "_________________________________________________________________\n"
     ]
    }
   ],
   "source": [
    "from tensorflow.keras.layers import Conv2D, Input, MaxPool2D, Concatenate, Lambda, Dense\n",
    "from tensorflow.keras.layers import TimeDistributed as Parallel\n",
    "from tensorflow.keras.models import Model\n",
    "from functools import partial\n",
    "import tensorflow.keras.backend as K\n",
    "import tensorflow as tf\n",
    "\n",
    "print(tf.version.VERSION)\n",
    "\n",
    "\n",
    "def MLP(inp,shape):\n",
    "    \n",
    "    MLP = Dense(shape[0])(inp)\n",
    "    for i in range(1,len(shape)):\n",
    "        MLP = Dense(shape[i])(MLP)\n",
    "        \n",
    "    return MLP\n",
    "        \n",
    "        \n",
    "\n",
    "    \n",
    "inp = Input(shape=(200,21))\n",
    "\n",
    "MLP = MLP(inp,(16,8,1))\n",
    "\n",
    "topk = Lambda(lambda x: tf.math.top_k(x))(MLP)\n",
    "\n",
    "model = Model(inp,topk)\n",
    "\n",
    "model.summary()\n",
    "        \n",
    "    \n",
    "        \n",
    "        \n",
    "    \n",
    "    \n",
    "    \n",
    "    "
   ]
  },
  {
   "cell_type": "code",
   "execution_count": 12,
   "metadata": {},
   "outputs": [
    {
     "name": "stdout",
     "output_type": "stream",
     "text": [
      "[2 3 4 2 3 4 2 3 4]\n"
     ]
    }
   ],
   "source": [
    "import numpy as np\n",
    "\n",
    "x = np.random.random((10,3))\n",
    "y=np.array([2,3,4])\n",
    "\n",
    "\n",
    "print(np.tile(y,3))"
   ]
  },
  {
   "cell_type": "code",
   "execution_count": null,
   "metadata": {},
   "outputs": [],
   "source": []
  }
 ],
 "metadata": {
  "kernelspec": {
   "display_name": "Python 3",
   "language": "python",
   "name": "python3"
  },
  "language_info": {
   "codemirror_mode": {
    "name": "ipython",
    "version": 3
   },
   "file_extension": ".py",
   "mimetype": "text/x-python",
   "name": "python",
   "nbconvert_exporter": "python",
   "pygments_lexer": "ipython3",
   "version": "3.6.10"
  }
 },
 "nbformat": 4,
 "nbformat_minor": 4
}
